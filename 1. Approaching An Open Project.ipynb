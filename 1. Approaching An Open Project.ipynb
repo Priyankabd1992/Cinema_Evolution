{
 "cells": [
  {
   "cell_type": "code",
   "execution_count": 72,
   "id": "fef309a9-7a06-4053-8a6d-9f3786b41df3",
   "metadata": {},
   "outputs": [],
   "source": [
    "import pandas as pd\n",
    "import numpy as np\n",
    "import os"
   ]
  },
  {
   "cell_type": "code",
   "execution_count": 74,
   "id": "6b67d7ba-f84e-4b05-81f8-9cb06a7532aa",
   "metadata": {},
   "outputs": [],
   "source": [
    "df_movies=pd.read_csv(r\"P:\\CarrerFoundy\\Data Immersion (deep learning)\\Exercise 6\\Execrise 6.1\\Data Set\\IMDb Movie Database.csv\")"
   ]
  },
  {
   "cell_type": "code",
   "execution_count": 76,
   "id": "9ee54fd2-41fe-4a65-8949-35a8ec9f6951",
   "metadata": {},
   "outputs": [
    {
     "data": {
      "text/html": [
       "<div>\n",
       "<style scoped>\n",
       "    .dataframe tbody tr th:only-of-type {\n",
       "        vertical-align: middle;\n",
       "    }\n",
       "\n",
       "    .dataframe tbody tr th {\n",
       "        vertical-align: top;\n",
       "    }\n",
       "\n",
       "    .dataframe thead th {\n",
       "        text-align: right;\n",
       "    }\n",
       "</style>\n",
       "<table border=\"1\" class=\"dataframe\">\n",
       "  <thead>\n",
       "    <tr style=\"text-align: right;\">\n",
       "      <th></th>\n",
       "      <th>Unnamed: 2</th>\n",
       "      <th>Lead Actor FB Likes</th>\n",
       "      <th>Cast FB Likes</th>\n",
       "      <th>Director FB Likes</th>\n",
       "      <th>Movie FB Likes</th>\n",
       "      <th>IMDb Score (1-10)</th>\n",
       "      <th>Total Reviews</th>\n",
       "      <th>Duration (min)</th>\n",
       "      <th>Gross Revenue</th>\n",
       "      <th>Budget</th>\n",
       "    </tr>\n",
       "  </thead>\n",
       "  <tbody>\n",
       "    <tr>\n",
       "      <th>count</th>\n",
       "      <td>3725.000000</td>\n",
       "      <td>3722.000000</td>\n",
       "      <td>3725.000000</td>\n",
       "      <td>3725.000000</td>\n",
       "      <td>3725.000000</td>\n",
       "      <td>3725.000000</td>\n",
       "      <td>3724.000000</td>\n",
       "      <td>3724.000000</td>\n",
       "      <td>3.725000e+03</td>\n",
       "      <td>3.725000e+03</td>\n",
       "    </tr>\n",
       "    <tr>\n",
       "      <th>mean</th>\n",
       "      <td>2002.786040</td>\n",
       "      <td>7464.728103</td>\n",
       "      <td>11050.561611</td>\n",
       "      <td>793.286443</td>\n",
       "      <td>8614.911678</td>\n",
       "      <td>6.463732</td>\n",
       "      <td>159.881042</td>\n",
       "      <td>109.774705</td>\n",
       "      <td>4.972798e+07</td>\n",
       "      <td>4.436692e+07</td>\n",
       "    </tr>\n",
       "    <tr>\n",
       "      <th>std</th>\n",
       "      <td>9.930944</td>\n",
       "      <td>15532.581521</td>\n",
       "      <td>18958.306272</td>\n",
       "      <td>3055.021574</td>\n",
       "      <td>20792.133048</td>\n",
       "      <td>1.058898</td>\n",
       "      <td>122.419180</td>\n",
       "      <td>22.849153</td>\n",
       "      <td>6.818220e+07</td>\n",
       "      <td>2.268511e+08</td>\n",
       "    </tr>\n",
       "    <tr>\n",
       "      <th>min</th>\n",
       "      <td>1920.000000</td>\n",
       "      <td>0.000000</td>\n",
       "      <td>0.000000</td>\n",
       "      <td>0.000000</td>\n",
       "      <td>0.000000</td>\n",
       "      <td>1.600000</td>\n",
       "      <td>1.000000</td>\n",
       "      <td>34.000000</td>\n",
       "      <td>1.620000e+02</td>\n",
       "      <td>2.180000e+02</td>\n",
       "    </tr>\n",
       "    <tr>\n",
       "      <th>25%</th>\n",
       "      <td>1999.000000</td>\n",
       "      <td>713.000000</td>\n",
       "      <td>1784.000000</td>\n",
       "      <td>10.000000</td>\n",
       "      <td>0.000000</td>\n",
       "      <td>5.900000</td>\n",
       "      <td>71.000000</td>\n",
       "      <td>95.000000</td>\n",
       "      <td>6.409206e+06</td>\n",
       "      <td>9.000000e+06</td>\n",
       "    </tr>\n",
       "    <tr>\n",
       "      <th>50%</th>\n",
       "      <td>2004.000000</td>\n",
       "      <td>1000.000000</td>\n",
       "      <td>3785.000000</td>\n",
       "      <td>58.000000</td>\n",
       "      <td>171.000000</td>\n",
       "      <td>6.600000</td>\n",
       "      <td>131.000000</td>\n",
       "      <td>105.000000</td>\n",
       "      <td>2.683000e+07</td>\n",
       "      <td>2.350000e+07</td>\n",
       "    </tr>\n",
       "    <tr>\n",
       "      <th>75%</th>\n",
       "      <td>2010.000000</td>\n",
       "      <td>12000.000000</td>\n",
       "      <td>15716.000000</td>\n",
       "      <td>221.000000</td>\n",
       "      <td>10000.000000</td>\n",
       "      <td>7.200000</td>\n",
       "      <td>217.000000</td>\n",
       "      <td>120.000000</td>\n",
       "      <td>6.445932e+07</td>\n",
       "      <td>5.000000e+07</td>\n",
       "    </tr>\n",
       "    <tr>\n",
       "      <th>max</th>\n",
       "      <td>2015.000000</td>\n",
       "      <td>640000.000000</td>\n",
       "      <td>656730.000000</td>\n",
       "      <td>23000.000000</td>\n",
       "      <td>349000.000000</td>\n",
       "      <td>9.300000</td>\n",
       "      <td>813.000000</td>\n",
       "      <td>330.000000</td>\n",
       "      <td>7.605058e+08</td>\n",
       "      <td>1.221550e+10</td>\n",
       "    </tr>\n",
       "  </tbody>\n",
       "</table>\n",
       "</div>"
      ],
      "text/plain": [
       "        Unnamed: 2  Lead Actor FB Likes  Cast FB Likes  Director FB Likes  \\\n",
       "count  3725.000000          3722.000000    3725.000000        3725.000000   \n",
       "mean   2002.786040          7464.728103   11050.561611         793.286443   \n",
       "std       9.930944         15532.581521   18958.306272        3055.021574   \n",
       "min    1920.000000             0.000000       0.000000           0.000000   \n",
       "25%    1999.000000           713.000000    1784.000000          10.000000   \n",
       "50%    2004.000000          1000.000000    3785.000000          58.000000   \n",
       "75%    2010.000000         12000.000000   15716.000000         221.000000   \n",
       "max    2015.000000        640000.000000  656730.000000       23000.000000   \n",
       "\n",
       "       Movie FB Likes  IMDb Score (1-10)  Total Reviews  Duration (min)  \\\n",
       "count     3725.000000        3725.000000    3724.000000     3724.000000   \n",
       "mean      8614.911678           6.463732     159.881042      109.774705   \n",
       "std      20792.133048           1.058898     122.419180       22.849153   \n",
       "min          0.000000           1.600000       1.000000       34.000000   \n",
       "25%          0.000000           5.900000      71.000000       95.000000   \n",
       "50%        171.000000           6.600000     131.000000      105.000000   \n",
       "75%      10000.000000           7.200000     217.000000      120.000000   \n",
       "max     349000.000000           9.300000     813.000000      330.000000   \n",
       "\n",
       "       Gross Revenue        Budget  \n",
       "count   3.725000e+03  3.725000e+03  \n",
       "mean    4.972798e+07  4.436692e+07  \n",
       "std     6.818220e+07  2.268511e+08  \n",
       "min     1.620000e+02  2.180000e+02  \n",
       "25%     6.409206e+06  9.000000e+06  \n",
       "50%     2.683000e+07  2.350000e+07  \n",
       "75%     6.445932e+07  5.000000e+07  \n",
       "max     7.605058e+08  1.221550e+10  "
      ]
     },
     "execution_count": 76,
     "metadata": {},
     "output_type": "execute_result"
    }
   ],
   "source": [
    "df_movies.describe()"
   ]
  },
  {
   "cell_type": "markdown",
   "id": "faa5347d-2671-4b12-a2a1-eb8ca26e3b85",
   "metadata": {},
   "source": [
    "# Data Type"
   ]
  },
  {
   "cell_type": "code",
   "execution_count": 24,
   "id": "e2040a04-3615-4f1c-b4a1-6353ea66a577",
   "metadata": {},
   "outputs": [
    {
     "name": "stdout",
     "output_type": "stream",
     "text": [
      "Title\n",
      "Release Date\n",
      "Unnamed: 2\n",
      "Color/B&W\n",
      "Genre\n",
      "Language\n",
      "Country\n",
      "Geo Area\n",
      "Rating\n",
      "Lead Actor\n",
      "Director Name\n",
      "Lead Actor FB Likes\n",
      "Cast FB Likes\n",
      "Director FB Likes\n",
      "Movie FB Likes\n",
      "IMDb Score (1-10)\n",
      "Total Reviews\n",
      "Duration (min)\n",
      "Gross Revenue\n",
      "Budget\n"
     ]
    }
   ],
   "source": [
    "# check for mixed type\n",
    "for col in df_movies.columns.tolist():\n",
    "  weird = (df_movies[[col]].map(type) != df_movies[[col]].iloc[0].apply(type))\n",
    "  if len (df_movies[weird]) > 0:\n",
    "    print (col)"
   ]
  },
  {
   "cell_type": "code",
   "execution_count": 28,
   "id": "b1a83708-cbc0-4e22-a59a-28e271ec5697",
   "metadata": {},
   "outputs": [],
   "source": [
    "# Fix data types for each column\n",
    "df_movies['Title'] = df_movies['Title'].astype(str)\n",
    "df_movies['Release Date'] = pd.to_datetime(df_movies['Release Date'], errors='coerce')  # Handle invalid dates\n",
    "df_movies['Unnamed: 2'] = df_movies['Unnamed: 2'].astype(str)  # Keeping the data type flexible since its purpose is unclear\n",
    "df_movies['Color/B&W'] = df_movies['Color/B&W'].astype(str)\n",
    "df_movies['Genre'] = df_movies['Genre'].astype(str)\n",
    "df_movies['Language'] = df_movies['Language'].astype(str)\n",
    "df_movies['Country'] = df_movies['Country'].astype(str)\n",
    "df_movies['Geo Area'] = df_movies['Geo Area'].astype(str)\n",
    "df_movies['Rating'] = df_movies['Rating'].astype(str)\n",
    "df_movies['Lead Actor'] = df_movies['Lead Actor'].astype(str)\n",
    "df_movies['Director Name'] = df_movies['Director Name'].astype(str)"
   ]
  },
  {
   "cell_type": "code",
   "execution_count": 30,
   "id": "cac649ab-cd49-43b2-bdab-e7bb919fa3be",
   "metadata": {},
   "outputs": [],
   "source": [
    "# Fix numeric columns\n",
    "df_movies['Lead Actor FB Likes'] = pd.to_numeric(df_movies['Lead Actor FB Likes'], errors='coerce')\n",
    "df_movies['Cast FB Likes'] = pd.to_numeric(df_movies['Cast FB Likes'], errors='coerce')\n",
    "df_movies['Director FB Likes'] = pd.to_numeric(df_movies['Director FB Likes'], errors='coerce')\n",
    "df_movies['Movie FB Likes'] = pd.to_numeric(df_movies['Movie FB Likes'], errors='coerce')\n",
    "df_movies['IMDb Score (1-10)'] = pd.to_numeric(df_movies['IMDb Score (1-10)'], errors='coerce')\n",
    "df_movies['Total Reviews'] = pd.to_numeric(df_movies['Total Reviews'], errors='coerce')\n",
    "df_movies['Duration (min)'] = pd.to_numeric(df_movies['Duration (min)'], errors='coerce')\n",
    "df_movies['Gross Revenue'] = pd.to_numeric(df_movies['Gross Revenue'], errors='coerce')\n",
    "df_movies['Budget'] = pd.to_numeric(df_movies['Budget'], errors='coerce')"
   ]
  },
  {
   "cell_type": "code",
   "execution_count": 32,
   "id": "475234c8-a35d-4330-b7e7-a889dd9e6092",
   "metadata": {},
   "outputs": [
    {
     "name": "stdout",
     "output_type": "stream",
     "text": [
      "<class 'pandas.core.frame.DataFrame'>\n",
      "RangeIndex: 3726 entries, 0 to 3725\n",
      "Data columns (total 20 columns):\n",
      " #   Column               Non-Null Count  Dtype         \n",
      "---  ------               --------------  -----         \n",
      " 0   Title                3726 non-null   object        \n",
      " 1   Release Date         3725 non-null   datetime64[ns]\n",
      " 2   Unnamed: 2           3726 non-null   object        \n",
      " 3   Color/B&W            3726 non-null   object        \n",
      " 4   Genre                3726 non-null   object        \n",
      " 5   Language             3726 non-null   object        \n",
      " 6   Country              3726 non-null   object        \n",
      " 7   Geo Area             3726 non-null   object        \n",
      " 8   Rating               3726 non-null   object        \n",
      " 9   Lead Actor           3726 non-null   object        \n",
      " 10  Director Name        3726 non-null   object        \n",
      " 11  Lead Actor FB Likes  3722 non-null   float64       \n",
      " 12  Cast FB Likes        3725 non-null   float64       \n",
      " 13  Director FB Likes    3725 non-null   float64       \n",
      " 14  Movie FB Likes       3725 non-null   float64       \n",
      " 15  IMDb Score (1-10)    3725 non-null   float64       \n",
      " 16  Total Reviews        3724 non-null   float64       \n",
      " 17  Duration (min)       3724 non-null   float64       \n",
      " 18  Gross Revenue        3725 non-null   float64       \n",
      " 19  Budget               3725 non-null   float64       \n",
      "dtypes: datetime64[ns](1), float64(9), object(10)\n",
      "memory usage: 582.3+ KB\n",
      "None\n"
     ]
    }
   ],
   "source": [
    "# Display the first few rows to verify changes\n",
    "print(df_movies.info())"
   ]
  },
  {
   "cell_type": "markdown",
   "id": "4017596a-3fca-44b6-8d30-e0b6ca946406",
   "metadata": {},
   "source": [
    "# Missing Values"
   ]
  },
  {
   "cell_type": "code",
   "execution_count": 78,
   "id": "f1bdc05c-bf91-416f-8627-56718dddc237",
   "metadata": {},
   "outputs": [
    {
     "data": {
      "text/plain": [
       "Title                   0\n",
       "Release Date            0\n",
       "Unnamed: 2              0\n",
       "Color/B&W               0\n",
       "Genre                   0\n",
       "Language                3\n",
       "Country                 0\n",
       "Geo Area                1\n",
       "Rating                 49\n",
       "Lead Actor              3\n",
       "Director Name           0\n",
       "Lead Actor FB Likes     3\n",
       "Cast FB Likes           0\n",
       "Director FB Likes       0\n",
       "Movie FB Likes          0\n",
       "IMDb Score (1-10)       0\n",
       "Total Reviews           1\n",
       "Duration (min)          1\n",
       "Gross Revenue           0\n",
       "Budget                  0\n",
       "dtype: int64"
      ]
     },
     "execution_count": 78,
     "metadata": {},
     "output_type": "execute_result"
    }
   ],
   "source": [
    "df_movies.isnull().sum()"
   ]
  },
  {
   "cell_type": "code",
   "execution_count": 80,
   "id": "415f688c-2a12-4695-9922-bc0f8fb52ff1",
   "metadata": {},
   "outputs": [],
   "source": [
    "# Replace null values in the 'Rating' column with 'Not Rated'\n",
    "df_movies['Rating'] = df_movies['Rating'].fillna('Not Rated')"
   ]
  },
  {
   "cell_type": "code",
   "execution_count": 82,
   "id": "d7ec2e8d-d70b-44c9-be30-b3832ad86221",
   "metadata": {},
   "outputs": [
    {
     "data": {
      "text/plain": [
       "0    English\n",
       "Name: Language, dtype: object"
      ]
     },
     "execution_count": 82,
     "metadata": {},
     "output_type": "execute_result"
    }
   ],
   "source": [
    "df_movies['Language'].mode()"
   ]
  },
  {
   "cell_type": "code",
   "execution_count": 84,
   "id": "a1a665af-0fde-4fa4-b3b5-874570db1bbe",
   "metadata": {},
   "outputs": [],
   "source": [
    "# Replace null values in the 'Language' column with 'English'\n",
    "df_movies['Language'] = df_movies['Language'].fillna('English')"
   ]
  },
  {
   "cell_type": "code",
   "execution_count": 86,
   "id": "cf3c8dc7-254e-48da-86d2-b3027f2c37e7",
   "metadata": {},
   "outputs": [
    {
     "data": {
      "text/plain": [
       "0    Robert De Niro\n",
       "Name: Lead Actor, dtype: object"
      ]
     },
     "execution_count": 86,
     "metadata": {},
     "output_type": "execute_result"
    }
   ],
   "source": [
    "df_movies['Lead Actor'].mode()"
   ]
  },
  {
   "cell_type": "code",
   "execution_count": 88,
   "id": "60a748c6-9573-4f74-b773-216cd1a590e5",
   "metadata": {},
   "outputs": [],
   "source": [
    "# Replace null values in the 'Lead Actor' column with mode value\n",
    "df_movies['Lead Actor'] = df_movies['Lead Actor'].fillna('Robert De Niro')"
   ]
  },
  {
   "cell_type": "code",
   "execution_count": 90,
   "id": "f5b8dc82-3432-43a3-a37c-6501c06c52f3",
   "metadata": {},
   "outputs": [],
   "source": [
    "# Identify the Facebook Likes columns\n",
    "fb_likes_columns = [\n",
    "    'Lead Actor FB Likes',\n",
    "    'Cast FB Likes',\n",
    "    'Director FB Likes',\n",
    "    'Movie FB Likes'\n",
    "]\n",
    "# Replace null values in the Facebook Likes columns with 0\n",
    "df_movies[fb_likes_columns] = df_movies[fb_likes_columns].fillna(0)"
   ]
  },
  {
   "cell_type": "code",
   "execution_count": 62,
   "id": "c450d721-415e-47af-a319-e7ad050620de",
   "metadata": {},
   "outputs": [],
   "source": [
    "# Replace null values in the 'Total Reviews' column with the average value\n",
    "df_movies['Total Reviews'] = df_movies['Total Reviews'].fillna('average()')"
   ]
  },
  {
   "cell_type": "code",
   "execution_count": 64,
   "id": "a1f0040e-fb49-4eba-b946-329705b7c92e",
   "metadata": {},
   "outputs": [],
   "source": [
    "# Replace null values in the 'Duration (min)' column with the average value\n",
    "df_movies['Duration (min)'] = df_movies['Duration (min)'].fillna('average()')"
   ]
  },
  {
   "cell_type": "code",
   "execution_count": 94,
   "id": "0eb3f254-3a04-4645-ad83-f113ea16c5f5",
   "metadata": {},
   "outputs": [
    {
     "data": {
      "text/plain": [
       "Title                  0\n",
       "Release Date           0\n",
       "Unnamed: 2             0\n",
       "Color/B&W              0\n",
       "Genre                  0\n",
       "Language               0\n",
       "Country                0\n",
       "Geo Area               1\n",
       "Rating                 0\n",
       "Lead Actor             0\n",
       "Director Name          0\n",
       "Lead Actor FB Likes    0\n",
       "Cast FB Likes          0\n",
       "Director FB Likes      0\n",
       "Movie FB Likes         0\n",
       "IMDb Score (1-10)      0\n",
       "Total Reviews          1\n",
       "Duration (min)         1\n",
       "Gross Revenue          0\n",
       "Budget                 0\n",
       "dtype: int64"
      ]
     },
     "execution_count": 94,
     "metadata": {},
     "output_type": "execute_result"
    }
   ],
   "source": [
    "df_movies.isnull().sum()"
   ]
  },
  {
   "cell_type": "markdown",
   "id": "94a31baf-8aed-44ea-b73b-730a77fb27c0",
   "metadata": {},
   "source": [
    "# Duplicates"
   ]
  },
  {
   "cell_type": "code",
   "execution_count": 97,
   "id": "abc31aeb-e751-4b91-aef4-2c7d265b145f",
   "metadata": {},
   "outputs": [
    {
     "name": "stdout",
     "output_type": "stream",
     "text": [
      "Number of duplicate titles: 0\n",
      "Empty DataFrame\n",
      "Columns: [Title, Release Date, Unnamed: 2, Color/B&W, Genre, Language, Country, Geo Area, Rating, Lead Actor, Director Name, Lead Actor FB Likes, Cast FB Likes, Director FB Likes, Movie FB Likes, IMDb Score (1-10), Total Reviews, Duration (min), Gross Revenue, Budget]\n",
      "Index: []\n"
     ]
    }
   ],
   "source": [
    "# Find duplicate titles\n",
    "duplicate_titles = df_movies[df_movies['Title'].duplicated()]\n",
    "\n",
    "# Display the duplicate titles\n",
    "print(f\"Number of duplicate titles: {duplicate_titles.shape[0]}\")\n",
    "print(duplicate_titles)"
   ]
  },
  {
   "cell_type": "markdown",
   "id": "6feb9f4c-014c-4b7e-a41a-0de3fed28fed",
   "metadata": {},
   "source": [
    "# Rename"
   ]
  },
  {
   "cell_type": "code",
   "execution_count": 103,
   "id": "ed58e095-341a-4f46-8c61-3db5818a3201",
   "metadata": {},
   "outputs": [],
   "source": [
    "# Replace \"New Line\" with \"New Zealand\" in the Country column\n",
    "df_movies['Country'] = df_movies['Country'].replace('New Line', 'New Zealand')"
   ]
  },
  {
   "cell_type": "code",
   "execution_count": 107,
   "id": "7a41ad75-7da0-46cf-9b5c-888855515bd8",
   "metadata": {},
   "outputs": [],
   "source": [
    "\n",
    "# Replace \"NC-17\" with \"Approved\" in the Rating column\n",
    "df_movies['Rating'] = df_movies['Rating'].replace('NC-17', 'Approved')"
   ]
  },
  {
   "cell_type": "code",
   "execution_count": 109,
   "id": "cde24221-45a8-488b-bde7-cc8aea8b2c4a",
   "metadata": {},
   "outputs": [],
   "source": [
    "# Replace \"PG-13\" with \"PG\" in the Rating column\n",
    "df_movies['Rating'] = df_movies['Rating'].replace('PG-13', 'PG')"
   ]
  },
  {
   "cell_type": "code",
   "execution_count": 111,
   "id": "5f06372f-c985-4bdb-b8da-e54411c3b300",
   "metadata": {},
   "outputs": [],
   "source": [
    "# Replace \"Unrated\" with \"Not Rated\" in the Rating column\n",
    "df_movies['Rating'] = df_movies['Rating'].replace('Unrated', 'Not Rated')"
   ]
  },
  {
   "cell_type": "markdown",
   "id": "da956080-82dd-48b4-b561-af54e47e9735",
   "metadata": {},
   "source": [
    "# Export the clean data set"
   ]
  },
  {
   "cell_type": "code",
   "execution_count": 116,
   "id": "c5598a80-6597-402c-836f-a1abc51c20e3",
   "metadata": {},
   "outputs": [],
   "source": [
    "df_movies.to_csv(r'P:\\CarrerFoundy\\Data Immersion (deep learning)\\Exercise 6\\Execrise 6.1\\Clean Data Set\\Movies.csv')"
   ]
  },
  {
   "cell_type": "code",
   "execution_count": null,
   "id": "1842c648-f1d2-48b6-8380-d5e3dcc5d284",
   "metadata": {},
   "outputs": [],
   "source": []
  }
 ],
 "metadata": {
  "kernelspec": {
   "display_name": "Python 3 (ipykernel)",
   "language": "python",
   "name": "python3"
  },
  "language_info": {
   "codemirror_mode": {
    "name": "ipython",
    "version": 3
   },
   "file_extension": ".py",
   "mimetype": "text/x-python",
   "name": "python",
   "nbconvert_exporter": "python",
   "pygments_lexer": "ipython3",
   "version": "3.12.4"
  }
 },
 "nbformat": 4,
 "nbformat_minor": 5
}
